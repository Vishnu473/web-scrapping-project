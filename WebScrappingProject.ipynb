{
  "nbformat": 4,
  "nbformat_minor": 0,
  "metadata": {
    "colab": {
      "provenance": [],
      "authorship_tag": "ABX9TyPa5Ln+O3Tq15vnc2clCpKY",
      "include_colab_link": true
    },
    "kernelspec": {
      "name": "python3",
      "display_name": "Python 3"
    },
    "language_info": {
      "name": "python"
    }
  },
  "cells": [
    {
      "cell_type": "markdown",
      "metadata": {
        "id": "view-in-github",
        "colab_type": "text"
      },
      "source": [
        "<a href=\"https://colab.research.google.com/github/Vishnu473/web-scrapping-project/blob/main/WebScrappingProject.ipynb\" target=\"_parent\"><img src=\"https://colab.research.google.com/assets/colab-badge.svg\" alt=\"Open In Colab\"/></a>"
      ]
    },
    {
      "cell_type": "code",
      "execution_count": null,
      "metadata": {
        "id": "I_Hqfqh-nIGM"
      },
      "outputs": [],
      "source": [
        "!pip install requests # installing requests"
      ]
    },
    {
      "cell_type": "code",
      "source": [
        "!pip install beautifulsoup4 # installing requests"
      ],
      "metadata": {
        "id": "gzVOw-XBnsvo"
      },
      "execution_count": null,
      "outputs": []
    },
    {
      "cell_type": "code",
      "source": [
        "# Checking if the request was success\n",
        "\n",
        "import requests\n",
        "\n",
        "url = 'https://traveltriangle.com/blog/places-to-visit-in-india-before-you-turn-30/'  # Replace with your target website\n",
        "response = requests.get(url)\n",
        "\n",
        "# Check if the request was successful\n",
        "if response.status_code == 200:\n",
        "    html_content = response.text\n",
        "    # print(html_content)\n",
        "    print(\"HTML content fetched successfully!\")\n",
        "else:\n",
        "    print(f\"Failed to fetch page. Status code: {response.status_code}\")\n"
      ],
      "metadata": {
        "id": "aBj0TAkIoS2M"
      },
      "execution_count": null,
      "outputs": []
    },
    {
      "cell_type": "code",
      "source": [
        "from bs4 import BeautifulSoup\n",
        "import requests\n",
        "import re\n",
        "\n",
        "main_url = 'https://www.holidify.com/country/india/places-to-visit.html'\n",
        "\n",
        "to_visit_in_India = []\n",
        "\n",
        "for page_number in range(0, 3):\n",
        "\n",
        "    url = f'{main_url}?pageNum={page_number}'\n",
        "    response = requests.get(url)\n",
        "    soup = BeautifulSoup(response.text, 'html.parser')\n",
        "\n",
        "\n",
        "    # Extract places\n",
        "    places = soup.find_all('div', class_='col-12 col-md-6 pr-md-3')\n",
        "\n",
        "    for place in places:\n",
        "        name = place.find('h3', class_='card-heading').text.split('.')[1].strip()\n",
        "        img = place.find('img',class_='card-img-top')['data-original']\n",
        "        images = [img]\n",
        "        # Extract data-original URLs from lazyBG divs\n",
        "        imgs = place.find_all('div', class_='lazyBG card-img-top')\n",
        "\n",
        "        for image in imgs:\n",
        "            data_original_url = image.get('data-original')\n",
        "            if data_original_url:\n",
        "                images.append(data_original_url)\n",
        "\n",
        "        link = place.find('a')['href']\n",
        "\n",
        "        # Getting the detail from link\n",
        "        detail_url = f'https://www.holidify.com{link}'\n",
        "        link = detail_url\n",
        "        rating = place.find('span', class_='rating-badge').text\n",
        "        info = place.find('p', class_='card-text').text.strip().replace('\\xa0', ' ')\n",
        "        time = place.find('p', class_='mb-3').text.split(':')[1]\n",
        "        time = re.split(r'[;,]', time)\n",
        "        time = [t.strip() for t in time if t.strip()]\n",
        "        more_places = place.find('p', class_='objective').text\n",
        "        no_places = more_places.strip().split()\n",
        "        if no_places[-3].isdigit():\n",
        "          tourist_attractions_count = \" \".join(no_places[-3:])\n",
        "        else:\n",
        "          tourist_attractions_count = \"-\"\n",
        "\n",
        "        to_visit_in_India.append({\n",
        "            'name': name,\n",
        "            'image': images,\n",
        "            'rating': rating.strip().split('/')[0].strip(),\n",
        "            'link': link,\n",
        "            'info': info,\n",
        "            'time': time,\n",
        "            'tourist_attractions_count': tourist_attractions_count\n",
        "        })\n",
        "print(to_visit_in_India)\n"
      ],
      "metadata": {
        "id": "I2ls2GgVsySx",
        "collapsed": true
      },
      "execution_count": null,
      "outputs": []
    },
    {
      "cell_type": "code",
      "source": [
        "# Saving the output in places_data json file\n",
        "\n",
        "import json\n",
        "\n",
        "places_data = to_visit_in_India\n",
        "\n",
        "json_file_name = 'places_data.json'\n",
        "\n",
        "# Write to JSON file\n",
        "with open(json_file_name, 'w') as json_file:\n",
        "    json.dump(places_data, json_file, indent=4)\n",
        "print(f'Data successfully written to {json_file_name}')\n"
      ],
      "metadata": {
        "id": "6NqQ8yACeSzY"
      },
      "execution_count": null,
      "outputs": []
    }
  ]
}